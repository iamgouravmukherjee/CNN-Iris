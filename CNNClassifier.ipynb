{
  "nbformat": 4,
  "nbformat_minor": 0,
  "metadata": {
    "colab": {
      "provenance": [],
      "toc_visible": true,
      "gpuType": "T4"
    },
    "kernelspec": {
      "name": "python3",
      "display_name": "Python 3"
    },
    "language_info": {
      "name": "python"
    },
    "accelerator": "GPU"
  },
  "cells": [
    {
      "cell_type": "code",
      "execution_count": 1,
      "metadata": {
        "id": "Eg_ppbeceDYV"
      },
      "outputs": [],
      "source": [
        "from tensorflow import keras\n",
        "from keras.models import Sequential\n",
        "from keras.layers import Conv2D, MaxPooling2D, Flatten,  Dense, Convolution2D\n",
        "from keras.preprocessing.image import ImageDataGenerator\n",
        "import os\n",
        "import random\n",
        "import shutil\n",
        "from google.colab import drive"
      ]
    },
    {
      "cell_type": "code",
      "source": [
        "drive.mount('/content/drive', force_remount=True)"
      ],
      "metadata": {
        "colab": {
          "base_uri": "https://localhost:8080/"
        },
        "id": "a4UP_WNcoBiX",
        "outputId": "59deb683-37bb-47f8-a07c-323feb978eb3"
      },
      "execution_count": 2,
      "outputs": [
        {
          "output_type": "stream",
          "name": "stdout",
          "text": [
            "Mounted at /content/drive\n"
          ]
        }
      ]
    },
    {
      "cell_type": "code",
      "source": [
        "class Classifier:\n",
        "  classifier=Sequential()\n",
        "  input_shape = (256, 256, 3)\n",
        "  image_shape = (256, 256)\n",
        "  def addConvolution(self):\n",
        "    self.classifier.add(Conv2D(filters=64, kernel_size=(3,3), strides=(1,1), activation=\"relu\", input_shape=self.input_shape))\n",
        "\n",
        "  def addMaxPooling(self):\n",
        "    self.classifier.add(MaxPooling2D(pool_size=(2,2)))\n",
        "\n",
        "  def addFlatten(self):\n",
        "    self.classifier.add(Flatten())\n",
        "\n",
        "  def addDense(self, units=128, activation=\"relu\"):\n",
        "    self.classifier.add(Dense(units=units, activation=activation))\n",
        "\n",
        "  def compile(self, optimizer=\"Adam\", loss=\"categorical_crossentropy\", metrics=[\"accuracy\"]):\n",
        "    self.classifier.compile(optimizer=optimizer, loss=loss, metrics=metrics)\n",
        "    self.classifier.summary()"
      ],
      "metadata": {
        "id": "IURLJFGahmNf"
      },
      "execution_count": 3,
      "outputs": []
    },
    {
      "cell_type": "code",
      "source": [
        "model =  Classifier()"
      ],
      "metadata": {
        "id": "twL32JNqePBk"
      },
      "execution_count": 4,
      "outputs": []
    },
    {
      "cell_type": "code",
      "source": [
        "model.addConvolution()\n",
        "model.addMaxPooling()\n",
        "model.addConvolution()\n",
        "model.addMaxPooling()\n",
        "model.addFlatten()\n",
        "model.addDense(activation=\"relu\")\n",
        "model.addDense(units=3, activation=\"sigmoid\")\n",
        "model.compile()"
      ],
      "metadata": {
        "colab": {
          "base_uri": "https://localhost:8080/"
        },
        "id": "2xelUSIJiIgy",
        "outputId": "0d33ddf5-87cd-40aa-cb2f-d91acf5342f0"
      },
      "execution_count": 5,
      "outputs": [
        {
          "output_type": "stream",
          "name": "stdout",
          "text": [
            "Model: \"sequential\"\n",
            "_________________________________________________________________\n",
            " Layer (type)                Output Shape              Param #   \n",
            "=================================================================\n",
            " conv2d (Conv2D)             (None, 254, 254, 64)      1792      \n",
            "                                                                 \n",
            " max_pooling2d (MaxPooling2D  (None, 127, 127, 64)     0         \n",
            " )                                                               \n",
            "                                                                 \n",
            " conv2d_1 (Conv2D)           (None, 125, 125, 64)      36928     \n",
            "                                                                 \n",
            " max_pooling2d_1 (MaxPooling  (None, 62, 62, 64)       0         \n",
            " 2D)                                                             \n",
            "                                                                 \n",
            " flatten (Flatten)           (None, 246016)            0         \n",
            "                                                                 \n",
            " dense (Dense)               (None, 128)               31490176  \n",
            "                                                                 \n",
            " dense_1 (Dense)             (None, 3)                 387       \n",
            "                                                                 \n",
            "=================================================================\n",
            "Total params: 31,529,283\n",
            "Trainable params: 31,529,283\n",
            "Non-trainable params: 0\n",
            "_________________________________________________________________\n"
          ]
        }
      ]
    },
    {
      "cell_type": "code",
      "source": [
        "source = \"/content/drive/MyDrive/dataset/training\"\n",
        "destination = \"/content/drive/MyDrive/dataset/test\""
      ],
      "metadata": {
        "id": "n8s29-0lnsRO"
      },
      "execution_count": 6,
      "outputs": []
    },
    {
      "cell_type": "code",
      "source": [
        "def move_samples(source_folder, destination_folder):\n",
        "    files = os.listdir(source_folder)\n",
        "    random.shuffle(files)\n",
        "    for file in files[:10]:\n",
        "        source_path = os.path.join(source_folder, file)\n",
        "        destination_path = os.path.join(destination_folder, file)\n",
        "        print(f\"moving {source_path} to {destination_path}\")\n",
        "        shutil.move(source_path, destination_path)"
      ],
      "metadata": {
        "id": "vy9ka3MPoYkz"
      },
      "execution_count": 66,
      "outputs": []
    },
    {
      "cell_type": "code",
      "source": [
        "for folder in os.listdir(source):\n",
        "    source_folder = os.path.join(source, folder)\n",
        "    destination_folder = os.path.join(destination, folder)\n",
        "    print(source_folder)\n",
        "    print(destination_folder)\n",
        "    if not os.path.exists(destination_folder):\n",
        "        os.makedirs(destination_folder)\n",
        "\n",
        "    move_samples(source_folder, destination_folder)"
      ],
      "metadata": {
        "colab": {
          "base_uri": "https://localhost:8080/"
        },
        "id": "o_eHkf9Ooqvb",
        "outputId": "aa9af6ca-8f4a-4fb2-fb59-9323712b4b95"
      },
      "execution_count": 69,
      "outputs": [
        {
          "output_type": "stream",
          "name": "stdout",
          "text": [
            "/content/drive/MyDrive/dataset/training/iris-setosa\n",
            "/content/drive/MyDrive/dataset/test/iris-setosa\n",
            "moving /content/drive/MyDrive/dataset/training/iris-setosa/iris-fdd46bc8cdd760707811fe958f12f7a3aa7ccc51609d9ec710c074af0bf9fb42.jpg to /content/drive/MyDrive/dataset/test/iris-setosa/iris-fdd46bc8cdd760707811fe958f12f7a3aa7ccc51609d9ec710c074af0bf9fb42.jpg\n",
            "moving /content/drive/MyDrive/dataset/training/iris-setosa/iris-0ff5ba898a0ec179a25ca217af45374fdd06d606bb85fc29294291facad1776a.jpg to /content/drive/MyDrive/dataset/test/iris-setosa/iris-0ff5ba898a0ec179a25ca217af45374fdd06d606bb85fc29294291facad1776a.jpg\n",
            "moving /content/drive/MyDrive/dataset/training/iris-setosa/iris-f31c83878b37242ce9306e3bc59c557786e8d496841cae4a91638efd47d66ad8.jpg to /content/drive/MyDrive/dataset/test/iris-setosa/iris-f31c83878b37242ce9306e3bc59c557786e8d496841cae4a91638efd47d66ad8.jpg\n",
            "moving /content/drive/MyDrive/dataset/training/iris-setosa/iris-f340f1f09cf8a0f83b28eb8e945317bb2e11502575275bb27ee8163ee28d2799.jpg to /content/drive/MyDrive/dataset/test/iris-setosa/iris-f340f1f09cf8a0f83b28eb8e945317bb2e11502575275bb27ee8163ee28d2799.jpg\n",
            "moving /content/drive/MyDrive/dataset/training/iris-setosa/iris-29c3861c8962dd41a2b20d6a13299c35e892c0b59487fe3e5bcc513645d860ab.jpg to /content/drive/MyDrive/dataset/test/iris-setosa/iris-29c3861c8962dd41a2b20d6a13299c35e892c0b59487fe3e5bcc513645d860ab.jpg\n",
            "moving /content/drive/MyDrive/dataset/training/iris-setosa/iris-63a8324f33d5eed6bb5a0056f035b88aa27f9b28c23dd2e68fcf46ca7e631d8d.jpg to /content/drive/MyDrive/dataset/test/iris-setosa/iris-63a8324f33d5eed6bb5a0056f035b88aa27f9b28c23dd2e68fcf46ca7e631d8d.jpg\n",
            "moving /content/drive/MyDrive/dataset/training/iris-setosa/iris-40d5d5b3aacd405930c5e03689455ec3001e6601daad468e28b3e65126b404ab.jpg to /content/drive/MyDrive/dataset/test/iris-setosa/iris-40d5d5b3aacd405930c5e03689455ec3001e6601daad468e28b3e65126b404ab.jpg\n",
            "moving /content/drive/MyDrive/dataset/training/iris-setosa/iris-6815050b6117cf2e1fd60b1c33bfbb94837b8e173ff869f625757da4a04965c9.jpg to /content/drive/MyDrive/dataset/test/iris-setosa/iris-6815050b6117cf2e1fd60b1c33bfbb94837b8e173ff869f625757da4a04965c9.jpg\n",
            "moving /content/drive/MyDrive/dataset/training/iris-setosa/iris-0c826b6f4648edf507e0cafdab53712bb6fd1f04dab453cee8db774a728dd640.jpg to /content/drive/MyDrive/dataset/test/iris-setosa/iris-0c826b6f4648edf507e0cafdab53712bb6fd1f04dab453cee8db774a728dd640.jpg\n",
            "moving /content/drive/MyDrive/dataset/training/iris-setosa/iris-8865cddb5bd6b16f8e64ac2d0417049b6a9362de67f44afa371e127ed215dfba.jpg to /content/drive/MyDrive/dataset/test/iris-setosa/iris-8865cddb5bd6b16f8e64ac2d0417049b6a9362de67f44afa371e127ed215dfba.jpg\n",
            "/content/drive/MyDrive/dataset/training/iris-versicolour\n",
            "/content/drive/MyDrive/dataset/test/iris-versicolour\n",
            "moving /content/drive/MyDrive/dataset/training/iris-versicolour/iris-0cd3800b74c2eab7688ecced3a22b29c1120aff3dbda0917c323a752822f16dd.jpg to /content/drive/MyDrive/dataset/test/iris-versicolour/iris-0cd3800b74c2eab7688ecced3a22b29c1120aff3dbda0917c323a752822f16dd.jpg\n",
            "moving /content/drive/MyDrive/dataset/training/iris-versicolour/iris-34a7cc16d26ba0883574e7a1c913ad50cf630e56ec08ee1113bf3584f4e40230.jpg to /content/drive/MyDrive/dataset/test/iris-versicolour/iris-34a7cc16d26ba0883574e7a1c913ad50cf630e56ec08ee1113bf3584f4e40230.jpg\n",
            "moving /content/drive/MyDrive/dataset/training/iris-versicolour/iris-14cbed88b0d2a929477bdf1299724f22d782e90f29ce55531f4a3d8608f7d926.jpg to /content/drive/MyDrive/dataset/test/iris-versicolour/iris-14cbed88b0d2a929477bdf1299724f22d782e90f29ce55531f4a3d8608f7d926.jpg\n",
            "moving /content/drive/MyDrive/dataset/training/iris-versicolour/iris-213cd179db580f8e633087dcda0969fd175d18d4f325cb5b4c5f394bbba0c1e0.jpg to /content/drive/MyDrive/dataset/test/iris-versicolour/iris-213cd179db580f8e633087dcda0969fd175d18d4f325cb5b4c5f394bbba0c1e0.jpg\n",
            "moving /content/drive/MyDrive/dataset/training/iris-versicolour/iris-19c232066246383772ea39824b363a7c645d0412941cfc6453822086d88c025f.jpg to /content/drive/MyDrive/dataset/test/iris-versicolour/iris-19c232066246383772ea39824b363a7c645d0412941cfc6453822086d88c025f.jpg\n",
            "moving /content/drive/MyDrive/dataset/training/iris-versicolour/iris-4e5d1022cc54b2f726588f724745f2b33017292d1672462c5be7ba8c09f8134f.jpg to /content/drive/MyDrive/dataset/test/iris-versicolour/iris-4e5d1022cc54b2f726588f724745f2b33017292d1672462c5be7ba8c09f8134f.jpg\n",
            "moving /content/drive/MyDrive/dataset/training/iris-versicolour/iris-7d1d6e862a0d44adcd539a0713bee334852e8543110142c1330328d5f80f9576.jpg to /content/drive/MyDrive/dataset/test/iris-versicolour/iris-7d1d6e862a0d44adcd539a0713bee334852e8543110142c1330328d5f80f9576.jpg\n",
            "moving /content/drive/MyDrive/dataset/training/iris-versicolour/iris-6bd33dd9dcaa57993d1a9a2553482460f65aa8d6ee647d58859284a1a63ddec5.jpg to /content/drive/MyDrive/dataset/test/iris-versicolour/iris-6bd33dd9dcaa57993d1a9a2553482460f65aa8d6ee647d58859284a1a63ddec5.jpg\n",
            "moving /content/drive/MyDrive/dataset/training/iris-versicolour/iris-430fa45aad0edfeb5b7138ff208fdeaa801b9830a9eb68f378242465b727289a.jpg to /content/drive/MyDrive/dataset/test/iris-versicolour/iris-430fa45aad0edfeb5b7138ff208fdeaa801b9830a9eb68f378242465b727289a.jpg\n",
            "moving /content/drive/MyDrive/dataset/training/iris-versicolour/iris-a2be5db78e5b603a5297d9a7eec4e7f14ef2cba0c9d072dc0a59a4db3ab5bb13.jpg to /content/drive/MyDrive/dataset/test/iris-versicolour/iris-a2be5db78e5b603a5297d9a7eec4e7f14ef2cba0c9d072dc0a59a4db3ab5bb13.jpg\n",
            "/content/drive/MyDrive/dataset/training/iris-virginica\n",
            "/content/drive/MyDrive/dataset/test/iris-virginica\n",
            "moving /content/drive/MyDrive/dataset/training/iris-virginica/iris-9ce2d8c4f1eae5911fcbd2883137ba5542c87cc2fe85b0a3fbec2c45293c903e.jpg to /content/drive/MyDrive/dataset/test/iris-virginica/iris-9ce2d8c4f1eae5911fcbd2883137ba5542c87cc2fe85b0a3fbec2c45293c903e.jpg\n",
            "moving /content/drive/MyDrive/dataset/training/iris-virginica/iris-deb0300afea7ed2f19c52a5242f88177cfc7459c33c4c8cc583c313fa188d131.jpg to /content/drive/MyDrive/dataset/test/iris-virginica/iris-deb0300afea7ed2f19c52a5242f88177cfc7459c33c4c8cc583c313fa188d131.jpg\n",
            "moving /content/drive/MyDrive/dataset/training/iris-virginica/iris-49a9158e46e788a39eeaefe82b19504d58dde167f540df6bc9492c3916d5f7ca.jpg to /content/drive/MyDrive/dataset/test/iris-virginica/iris-49a9158e46e788a39eeaefe82b19504d58dde167f540df6bc9492c3916d5f7ca.jpg\n",
            "moving /content/drive/MyDrive/dataset/training/iris-virginica/iris-8772f981742bcc671077f0e7c0ddc1458d37f6110ce2398ec88426e5f945d0dd.jpg to /content/drive/MyDrive/dataset/test/iris-virginica/iris-8772f981742bcc671077f0e7c0ddc1458d37f6110ce2398ec88426e5f945d0dd.jpg\n",
            "moving /content/drive/MyDrive/dataset/training/iris-virginica/iris-9e6ce91679c9aaceb3e9c930f11e788aacbfa8341a2a5737583c14a4d6666f3d.jpg to /content/drive/MyDrive/dataset/test/iris-virginica/iris-9e6ce91679c9aaceb3e9c930f11e788aacbfa8341a2a5737583c14a4d6666f3d.jpg\n",
            "moving /content/drive/MyDrive/dataset/training/iris-virginica/iris-61b71f1de04a03ce719094b65179b06e3cd80afa01622b30cda8c3e41de6bfaa.jpg to /content/drive/MyDrive/dataset/test/iris-virginica/iris-61b71f1de04a03ce719094b65179b06e3cd80afa01622b30cda8c3e41de6bfaa.jpg\n",
            "moving /content/drive/MyDrive/dataset/training/iris-virginica/iris-42efc1ea0da9306b69ddcca00264da0c7ca82128a1855f2a50fdf8a2e83a04a3.jpg to /content/drive/MyDrive/dataset/test/iris-virginica/iris-42efc1ea0da9306b69ddcca00264da0c7ca82128a1855f2a50fdf8a2e83a04a3.jpg\n",
            "moving /content/drive/MyDrive/dataset/training/iris-virginica/iris-11fec7884160b8ce5c24faea946e137f8f38eefef4a1b76de6a72e1b0b279c4b.jpg to /content/drive/MyDrive/dataset/test/iris-virginica/iris-11fec7884160b8ce5c24faea946e137f8f38eefef4a1b76de6a72e1b0b279c4b.jpg\n",
            "moving /content/drive/MyDrive/dataset/training/iris-virginica/iris-2599ec087885d23e8ead6d55091a924a5c7e8b09c9a278e0a741cad8951296e1.jpg to /content/drive/MyDrive/dataset/test/iris-virginica/iris-2599ec087885d23e8ead6d55091a924a5c7e8b09c9a278e0a741cad8951296e1.jpg\n",
            "moving /content/drive/MyDrive/dataset/training/iris-virginica/iris-909424cba44f59686df080e271953ada99dd7e285d4a4b3b4cc155e4893aedca.jpg to /content/drive/MyDrive/dataset/test/iris-virginica/iris-909424cba44f59686df080e271953ada99dd7e285d4a4b3b4cc155e4893aedca.jpg\n"
          ]
        }
      ]
    },
    {
      "cell_type": "code",
      "source": [
        "train_datagen = ImageDataGenerator(rescale=1./255,\n",
        "                                   horizontal_flip=True,\n",
        "                                   vertical_flip=True,\n",
        "                                   shear_range=0.2,\n",
        "                                   zoom_range=0.2\n",
        "                                  )\n",
        "\n",
        "test_datagen = ImageDataGenerator(rescale=1./255)"
      ],
      "metadata": {
        "id": "-9GYoqa6rBWX"
      },
      "execution_count": 7,
      "outputs": []
    },
    {
      "cell_type": "code",
      "source": [
        "from tensorflow.python.ops.batch_ops import batch\n",
        "train_data = train_datagen.flow_from_directory(directory=source,\n",
        "                                               target_size=model.image_shape,\n",
        "                                               class_mode=\"categorical\",\n",
        "                                               batch_size=327*5\n",
        "                                               )\n",
        "test_data = test_datagen.flow_from_directory(directory=destination,\n",
        "                                               target_size=model.image_shape,\n",
        "                                               class_mode=\"categorical\",\n",
        "                                               batch_size=327*5\n",
        "                                               )"
      ],
      "metadata": {
        "colab": {
          "base_uri": "https://localhost:8080/"
        },
        "id": "5hbB_9R8rRkC",
        "outputId": "956863c2-8f99-4f77-a868-982914a832b7"
      },
      "execution_count": 8,
      "outputs": [
        {
          "output_type": "stream",
          "name": "stdout",
          "text": [
            "Found 327 images belonging to 3 classes.\n",
            "Found 30 images belonging to 3 classes.\n"
          ]
        }
      ]
    },
    {
      "cell_type": "code",
      "source": [
        "model.classifier.fit(train_data, epochs=5, steps_per_epoch=327, validation_data=test_data)"
      ],
      "metadata": {
        "colab": {
          "base_uri": "https://localhost:8080/"
        },
        "id": "4kbE7ERTspN4",
        "outputId": "9fb49b59-00e9-4e58-806e-c3dbcc7f2070"
      },
      "execution_count": null,
      "outputs": [
        {
          "output_type": "stream",
          "name": "stdout",
          "text": [
            "Epoch 1/5\n"
          ]
        }
      ]
    }
  ]
}